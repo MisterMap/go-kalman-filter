{
 "cells": [
  {
   "cell_type": "code",
   "execution_count": 1,
   "metadata": {},
   "outputs": [],
   "source": [
    "import numpy as np\n",
    "\n",
    "\n",
    "class KalmanFilter(object):\n",
    "    def __init__(self, initial_state, initial_covariance, motion_model, motion_error_model,\n",
    "                 measurement_model, measurement_error_model):\n",
    "        self._previous_covariance = initial_covariance\n",
    "        self._previous_state = initial_state\n",
    "        self._motion_model = motion_model\n",
    "        self._motion_error_model = motion_error_model\n",
    "        self._measurement_model = measurement_model\n",
    "        self._measurement_error_model = measurement_error_model\n",
    "        self._prediction_state = initial_state\n",
    "        self._prediction_covariance = initial_covariance\n",
    "\n",
    "    def filter(self, measurement):\n",
    "        # Prediction\n",
    "        state = self._motion_model.dot(self._previous_state)\n",
    "        covariance = self._motion_model.dot(self._previous_covariance).dot(\n",
    "            self._motion_model.T) + self._motion_error_model\n",
    "        self._prediction_covariance = covariance\n",
    "        self._prediction_state = state\n",
    "\n",
    "        # Filtration\n",
    "        error_covariance = self._measurement_model.dot(covariance).dot(\n",
    "            self._measurement_model.T) + self._measurement_error_model\n",
    "        kalman_gain = covariance.dot(self._measurement_model.T.dot(np.linalg.inv(error_covariance)))\n",
    "        state = state + kalman_gain.dot(measurement - self._measurement_model.dot(state))\n",
    "        covariance = (np.eye(covariance.shape[0]) - kalman_gain.dot(self._measurement_model)).dot(covariance)\n",
    "        self._previous_state = state\n",
    "        self._previous_covariance = covariance\n",
    "        return state\n",
    "\n",
    "    def log_likelihood(self, measurement):\n",
    "        if len(np.array(measurement).shape) == 0:\n",
    "            measurement = np.array([measurement])\n",
    "        innovation_value = measurement - self._measurement_model.dot(self._prediction_state)\n",
    "        innovation_covariance = self._measurement_model.dot(self._prediction_covariance).dot(\n",
    "            self._measurement_model.T) + self._measurement_error_model\n",
    "        result = 0.5 * np.log(np.linalg.det(innovation_covariance)) + 0.5 * innovation_value.T.dot(\n",
    "            np.linalg.inv(innovation_covariance)).dot(innovation_value)\n",
    "        return result\n",
    "\n",
    "    @property\n",
    "    def previous_covariance(self):\n",
    "        return self._previous_covariance\n",
    "\n",
    "    @property\n",
    "    def previous_state(self):\n",
    "        return self._previous_state\n",
    "    \n",
    "\n",
    "class RandomAccelerationKalmanFilter(KalmanFilter):\n",
    "    def __init__(self, motion_error, measurement_error, initial_covariance_value=1e4,\n",
    "                 initial_state=None, time_delta=None):\n",
    "        self._time_delta = time_delta\n",
    "        self._previous_time = None\n",
    "        self._motion_error = motion_error\n",
    "        measurement_model = np.array([[1, 0]])\n",
    "        measurement_error_model = np.array([[measurement_error ** 2]])\n",
    "        initial_covariance = np.eye(2) * initial_covariance_value\n",
    "        motion_model, motion_error_model = self.calculate_motion_model(time_delta)\n",
    "        super(RandomAccelerationKalmanFilter, self).__init__(initial_state, initial_covariance, motion_model,\n",
    "                                                             motion_error_model, measurement_model,\n",
    "                                                             measurement_error_model)\n",
    "\n",
    "    def calculate_motion_model(self, time_delta=None):\n",
    "        if time_delta is None:\n",
    "            time_delta = 1.\n",
    "        state_motion_error_model = np.array([[time_delta ** 2 / 2], [time_delta]])\n",
    "        motion_model = np.array([[1, time_delta], [0, 1]])\n",
    "        motion_error_model = state_motion_error_model.dot(state_motion_error_model.T) * self._motion_error ** 2\n",
    "        return motion_model, motion_error_model\n",
    "\n",
    "    def filter(self, measurement, timestamp=None):\n",
    "        if self._time_delta is None and timestamp is None:\n",
    "            raise ValueError(\"[ERROR][RandomAccelerationKalmanFilter] - for filter either time_delta or \"\n",
    "                             \"timestamp need to be defined\")\n",
    "        elif self._time_delta is None:\n",
    "            if self._previous_time is None:\n",
    "                self._previous_time = timestamp\n",
    "            time_delta = timestamp - self._previous_time\n",
    "            self._previous_time = timestamp\n",
    "            self._motion_model, self._motion_error_model = self.calculate_motion_model(time_delta)\n",
    "        if self._previous_state is None:\n",
    "            self._previous_state = np.array([measurement, 0])\n",
    "        return super(RandomAccelerationKalmanFilter, self).filter(measurement)\n"
   ]
  },
  {
   "cell_type": "code",
   "execution_count": 2,
   "metadata": {},
   "outputs": [],
   "source": [
    "filter_object = RandomAccelerationKalmanFilter(1, 1, time_delta=0.1)"
   ]
  },
  {
   "cell_type": "code",
   "execution_count": 3,
   "metadata": {},
   "outputs": [
    {
     "name": "stdout",
     "output_type": "stream",
     "text": [
      "[[1 0]]\n",
      "[[1]]\n",
      "[[1.  0.1]\n",
      " [0.  1. ]]\n",
      "[[2.5e-05 5.0e-04]\n",
      " [5.0e-04 1.0e-02]]\n"
     ]
    }
   ],
   "source": [
    "print(filter_object._measurement_model)\n",
    "print(filter_object._measurement_error_model)\n",
    "print(filter_object._motion_model)\n",
    "print(filter_object._motion_error_model)"
   ]
  },
  {
   "cell_type": "code",
   "execution_count": null,
   "metadata": {},
   "outputs": [],
   "source": []
  }
 ],
 "metadata": {
  "kernelspec": {
   "display_name": "Python 3",
   "language": "python",
   "name": "python3"
  },
  "language_info": {
   "codemirror_mode": {
    "name": "ipython",
    "version": 3
   },
   "file_extension": ".py",
   "mimetype": "text/x-python",
   "name": "python",
   "nbconvert_exporter": "python",
   "pygments_lexer": "ipython3",
   "version": "3.6.9"
  }
 },
 "nbformat": 4,
 "nbformat_minor": 2
}
